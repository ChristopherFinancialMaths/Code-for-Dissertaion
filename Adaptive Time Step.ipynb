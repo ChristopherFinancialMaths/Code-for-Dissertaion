{
 "cells": [
  {
   "cell_type": "code",
   "execution_count": null,
   "id": "ad0588be",
   "metadata": {},
   "outputs": [],
   "source": [
    "import numpy as np\n",
    "import pandas as pd\n",
    "import math as m"
   ]
  },
  {
   "cell_type": "code",
   "execution_count": null,
   "id": "0caed83e",
   "metadata": {},
   "outputs": [],
   "source": [
    "# formula for using a Brownian bridge\n",
    "def b_bridge(t1, t2, t , x1, x2, M):\n",
    "    z = np.sqrt((t2 - t) * (t - t1) / (t2 - t1))* np.random.normal(0, 1, (2, M))\n",
    "    return ((t2 - t) * x1 + (t - t1) * x2) / (t2 - t1) + z"
   ]
  },
  {
   "cell_type": "code",
   "execution_count": null,
   "id": "c1ffcc2e",
   "metadata": {},
   "outputs": [],
   "source": [
    "def TimeStepAdaption(Y_n, M, A, theta):\n",
    "    global h, sig_t, B\n",
    "    # half h\n",
    "    if h[0] > h[1] or h[0]==0: \n",
    "        h = np.insert(h, 1, h[1]/2) # if h[0]=0, it means there still finding the first h\n",
    "    else:\n",
    "        h = np.insert(h, 1, h[0]/2) \n",
    "    # use Brownian bridge to get the Brownian increment for the new h  \n",
    "    if h[0] > h[2] or h[0]==0:\n",
    "        B = np.insert(B, 1, np.array([b_bridge(t1=0, t2=h[2], t=h[1], x1=B[0,:,:], x2=B[1,:,:], M=M)]), axis=0)\n",
    "    else:\n",
    "        B = np.insert(B, 1, np.array([b_bridge(t1=0, t2=h[0], t=h[1], x1=B[0,:,:], x2=B[1,:,:], M=M)]), axis=0)\n",
    "        \n",
    "    B2 = A[0]*B[1, 0,:] + A[1]*B[1, 1,:] # Brownian motion for B2 in the SABR model\n",
    "    sig_t = np.insert(sig_t, 1, sig_t[0,:]*np.exp((-alpha**2 / 2)*h[1] + B2), axis=0) # sigma(t)\n",
    "    B1 = sig_t[1,:]*B[1, 0,:] # Brownian motion for B2 in the SABR model\n",
    "    \n",
    "    # Check if square root is positive\n",
    "    if np.all((((Y_n + B1)**2)/4) >= (((sig_t[1,:]**2) * h[1] * theta) / (2 * (1 - theta))))==True:\n",
    "        B = np.delete(B, 0, axis=0)\n",
    "        h = np.delete(h, 0, axis=0)\n",
    "        sig_t = np.delete(sig_t, 0, axis=0)\n",
    "        Y_n = ((Y_n + B1)/2) + np.sqrt((((Y_n + B1)**2)/4) - ((sig_t[0,:]**2) * h[0] * theta) / (2 * (1 - theta)))\n",
    "        \n",
    "    else:\n",
    "        sig_t = np.delete(sig_t, 1, axis=0)\n",
    "        Y_n, sig_t, B, h = TimeStepAdaption(Y_n=Y_n, M=M, A=A, theta=theta)\n",
    "\n",
    "\n",
    "    B2 = A[0]*B[1, 1,:] + A[1]*B[1, 0,:] # Brownian motion for B2 in the SABR model\n",
    "    sig_t = np.insert(sig_t, 1, sig_t[0,:]*np.exp((-alpha**2 / 2)*h[0] + B2), axis=0) # sigma(t)\n",
    "    B1 = sig_t[1,:]*B[1, 0,:] # Brownian motion for B2 in the SABR model\n",
    "    \n",
    "    # Check if square root is positive\n",
    "    if np.all((((Y_n + B1)**2)/4) >= (((sig_t[1,:]**2) * h[0] * theta) / (2 * (1 - theta))))==False:\n",
    "        sig_t = np.delete(sig_t, 1, axis=0)\n",
    "        Y_n, sig_t, B, h = TimeStepAdaption(Y_n=Y_n, M=M, A=A, theta=theta)\n",
    "        return Y_n, sig_t, B, h\n",
    "                          \n",
    "    else:\n",
    "        Y_n = ((Y_n + B1)/2) + np.sqrt((((Y_n + B1)**2)/4) - ((sig_t[1,:]**2) * h[0] * theta) / (2 * (1 - theta)))\n",
    "        h = np.delete(h, 0, axis=0)\n",
    "        B = np.delete(B, 0, axis=0)\n",
    "        sig_t = np.delete(sig_t, 0, axis=0)\n",
    "        return Y_n, sig_t, B, h"
   ]
  },
  {
   "cell_type": "code",
   "execution_count": null,
   "id": "94dbf969",
   "metadata": {},
   "outputs": [],
   "source": [
    "def Implicit(T, N, sig_0, M, alpha, Y_0, rho, theta):\n",
    "    global h, sig_t, B\n",
    "    dt = T/N # time step\n",
    "    Y_n = np.ones(M)*Y_0 # array to hold values for Y at t for each monte carlo simulation\n",
    "    sig_t = np.array([np.ones(M)*sig_0], dtype=float) # array to hold values for sigma at t for each monte carlo simulation\n",
    "    A = np.array([alpha*rho, alpha*np.sqrt(1 - rho**2)], dtype=float) # Cholesky factor\n",
    "    B_tminus1 = np.zeros((2,M)) \n",
    "    for i in range(N):\n",
    "        h = np.array([0, dt], dtype=float) # array to hold time step\n",
    "        B = np.array([np.sqrt(dt) * np.random.normal(0, 1, (2, M))], dtype=float) # Brownian motion\n",
    "        B = np.insert(B, 0, B_tminus1, axis=0) # B(0) = 0\n",
    "        B2 = A[0]*B[1, 0,:] + A[1]*B[1, 1,:] # Brownian motion for B1 in the SABR model\n",
    "        sig_t = np.insert(sig_t, 1, sig_t[0,:]*np.exp((-alpha**2 / 2)*dt + B2), axis=0) # sigma(t)\n",
    "        B1 = sig_t[1,:]*B[1, 0,:] # Brownian motion for B1 in the SABR model\n",
    "        # If the square root is negative for Yn, half the step size and use a Brownian bridge\n",
    "        if np.any((((Y_n + B1)**2)/4) < (((sig_t[1,:]**2) * dt * theta) / (2 * (1 - theta))))==True:\n",
    "            sig_t = np.delete(sig_t, 1, axis=0) # delete sigma_n+1\n",
    "            Y_n, sig_t, B, h = TimeStepAdaption(Y_n=Y_n, M=M, A=A, theta=theta)\n",
    "            B_tminus1 = np.copy(B) # stores Brownian increment\n",
    "  \n",
    "        else:\n",
    "            Y_n = ((Y_n + B1)/2) + np.sqrt((((Y_n + B1)**2)/4) - ((sig_t[1,:]**2) * dt * theta) / (2 * (1 - theta)))\n",
    "            sig_t = np.delete(sig_t, 0, axis=0) # delete sigma_n\n",
    "            B_tminus1 = np.copy(B[1,:,:])# store Brownian increment\n",
    "        \n",
    "    \n",
    "    F_n = (Y_n * (1 - theta))**(1/(1 - theta)) # convet Yn to Fn\n",
    "    return F_n"
   ]
  }
 ],
 "metadata": {
  "kernelspec": {
   "display_name": "Python 3",
   "language": "python",
   "name": "python3"
  },
  "language_info": {
   "codemirror_mode": {
    "name": "ipython",
    "version": 3
   },
   "file_extension": ".py",
   "mimetype": "text/x-python",
   "name": "python",
   "nbconvert_exporter": "python",
   "pygments_lexer": "ipython3",
   "version": "3.7.11"
  }
 },
 "nbformat": 4,
 "nbformat_minor": 5
}
