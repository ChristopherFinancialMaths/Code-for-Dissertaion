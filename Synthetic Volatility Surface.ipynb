{
 "cells": [
  {
   "cell_type": "code",
   "execution_count": null,
   "id": "c08316bf",
   "metadata": {},
   "outputs": [],
   "source": [
    "import numpy as np\n",
    "import pandas as pd\n",
    "import matplotlib.pyplot as plt\n",
    "from pandas_datareader.data import DataReader as dr\n",
    "from mpl_toolkits.mplot3d import axes3d\n",
    "from scipy.stats import norm\n",
    "from scipy.interpolate import interp2d\n",
    "import math as m"
   ]
  },
  {
   "cell_type": "markdown",
   "id": "42f23927",
   "metadata": {},
   "source": [
    "### European Call option value $\\mathbf{E}[(F(T) - e^{-rT}E)^+]$"
   ]
  },
  {
   "cell_type": "code",
   "execution_count": null,
   "id": "c4bec6e9",
   "metadata": {},
   "outputs": [],
   "source": [
    "# Parameters\n",
    "M = 10**4 # No. of Monte Carlo Simulations\n",
    "F_0 = 2500 # F(0)\n",
    "alpha = 0.01 # alpha coefficient in the SABR model (was 1 for Aug20 results)\n",
    "rho = 0.25 # correlation between F(t) and sigma(t), rho is an element of [-1, 1]\n",
    "# theta = 0.5\n",
    "sig_0 = 0.1 # sigma(0)"
   ]
  },
  {
   "cell_type": "code",
   "execution_count": null,
   "id": "fd9e8dfc",
   "metadata": {},
   "outputs": [],
   "source": [
    "# Function to calculate F using the implicit EM approximation of the Lamperti transforamtion\n",
    "def Implicit(T, N, sig_0, M, alpha, F_0, rho, theta):\n",
    "    Y_0 = (1/(1-theta))*F_0**(1-theta)\n",
    "    dt = T/N # time step\n",
    "    Y_n = np.ones(M)*Y_0 # array to hold values for Y at t for each monte carlo simulation\n",
    "    sig_t = np.ones(M)*sig_0 # array to hold values for sigma at t for each monte carlo simulation\n",
    "    A = np.array([alpha*rho, alpha*np.sqrt(1 - rho**2)], dtype=float) # Cholesky factor\n",
    "    for i in range(int(N)):\n",
    "        B = np.sqrt(dt) * np.random.normal(0, 1, (2, M)) # Brownian motion\n",
    "        B2 = A[0]*B[0,:] + A[1]*B[1,:] # Brownian motion for B2 in the SABR model\n",
    "        sig_t = sig_t*np.exp((-alpha**2 / 2)*dt + B2) # sigma(t)\n",
    "        B1 = sig_t*B[0,:] # Brownian motion for B1 in the SABR model\n",
    "        Y_n = ((Y_n + B1)/2) + np.sqrt((((Y_n + B1)**2)/4) - ((sig_t**2) * dt * theta) / (2 * (1 - theta)))\n",
    "        \n",
    "    F_n = (Y_n * (1 - theta))**(1/(1 - theta)) # convet Yn to Fn\n",
    "    return np.mean(F_n), np.mean(sig_t) # return expected value of F(T)"
   ]
  },
  {
   "cell_type": "code",
   "execution_count": null,
   "id": "f7a1d7b5",
   "metadata": {},
   "outputs": [],
   "source": [
    "# Function to calculate option value\n",
    "def OptionValue(F, E, T, r):\n",
    "    return np.maximum(F - np.exp(-r*T)*E, 0)"
   ]
  },
  {
   "cell_type": "code",
   "execution_count": null,
   "id": "0299eba0",
   "metadata": {},
   "outputs": [],
   "source": [
    "# Black-Scholes formula\n",
    "def BSF(S, E, T, sigma, r):\n",
    "    # where:\n",
    "    # S is the initial value of the underlying asset\n",
    "    # E is the stike price\n",
    "    # r is the risk free rate\n",
    "    # sigma is the volatility of the underlying asset\n",
    "    # T is the time to maturity\n",
    "    # D is the dividend yield\n",
    "    # option is to define whether a call or put option is being valued\n",
    "    \n",
    "    # d1 is a variable in the black-scholes formula\n",
    "    d1 = (np.log(S / E) + (r + 0.5 * sigma**2) * T) / (sigma * np.sqrt(T))\n",
    "    \n",
    "    # d2 is a variable in the black-scholes formula\n",
    "    d2 = (np.log(S / E) + (r - 0.5 * sigma**2) * T) / (sigma * np.sqrt(T))\n",
    "\n",
    "    value = S * 0.5 * norm.cdf(d1) - E * np.exp(-r * T) * 0.5 * norm.cdf(d2)\n",
    "    return value"
   ]
  },
  {
   "cell_type": "code",
   "execution_count": null,
   "id": "9e8d2fca",
   "metadata": {},
   "outputs": [],
   "source": [
    "# d1 variable from the Black-Scholes formula\n",
    "def Vega(S, E, T, sigma, r):\n",
    "    \n",
    "    # d1 is a variable in the black-scholes formula\n",
    "    d1 = (np.log(S / E) + (r + 0.5 * sigma**2) * T) / (sigma * np.sqrt(T))\n",
    "    vega = S * norm.pdf(d1) * np.sqrt(T)\n",
    "    \n",
    "    return vega"
   ]
  },
  {
   "cell_type": "code",
   "execution_count": null,
   "id": "b3ea8297",
   "metadata": {},
   "outputs": [],
   "source": [
    "# Uncomment if you want to use the US treasury and Libor rate\n",
    "# syms = ['DGS1MO', 'DGS3MO', 'DGS6MO', 'DGS1', 'DGS2', 'DGS3']\n",
    "# yc = dr(syms, 'fred') # could specify start date with start param here\n",
    "# names = dict(zip(syms, ['1m', '3m', '6m', '1yr', '2yr']))\n",
    "# yc = yc.rename(columns=names)\n",
    "# yc = yc[['1m', '3m', '6m','1yr', '2yr']]\n",
    "# USr = yc.iloc[-1,:].to_numpy()/100 # US treasury constant maturity rate\n",
    "# # libor rates effective from the 28/05/2021\n",
    "# rWeek = dr('USD1WKD156N', 'fred').iloc[-1]/100 # 1 week libor rate\n",
    "\n",
    "time = np.array([1/52, 1/12, 1/4, 1/2, 1, 2]) # time i.e. 1 week = 1/52, 1 month = 1/12\n",
    "# r = np.insert(USr, 0, rWeek)\n",
    "r = [0.005, 0.01, 0.02, 0.025, 0.03, 0.05] # term structure"
   ]
  },
  {
   "cell_type": "code",
   "execution_count": null,
   "id": "44e5f0bf",
   "metadata": {},
   "outputs": [],
   "source": [
    "T = np.arange(time[0], time[-1]+1/52, 1/52) # time array that goes from 1 week to 2 years in 1 week increments\n",
    "rInterp = np.interp(T, time, r) # interpolate term structure for time array, T\n",
    "N = np.round(T/(1/1460),0) # Array of number of steps, this is to maintain a dt=1day "
   ]
  },
  {
   "cell_type": "code",
   "execution_count": null,
   "id": "7c65e547",
   "metadata": {},
   "outputs": [],
   "source": [
    "# Bisection method for calculating implied volatility\n",
    "def bisection(S, E, T, r, tol, MP, sigma):\n",
    "    # MP is options market price\n",
    "    upper_vol = 4 # upper estimate\n",
    "    lower_vol = 0.005 # lower estimate\n",
    "    iteration = 0 # iteration counter\n",
    "    tol = 1e-8 # degree of accuracy\n",
    "    eps = 1 # placeholder for error between estimates \n",
    "    max_iter = 1000 # max iteration limit (avoid infinte loop)\n",
    "    BS_Low = BSF(S=S, E=E, T=T, sigma=lower_vol, r=r) # BS price for low estimate\n",
    "    BS_High = BSF(S=S, E=E, T=T, sigma=upper_vol, r=r) # BS price for high estimat\n",
    "    vi = lower_vol + (MP - BS_Low)*(upper_vol - lower_vol)/(BS_High - BS_Low) # Bisection formula\n",
    "    tempVal = BSF(S=S, E=E, T=T, sigma=vi, r=r) # BS price for latest estimate\n",
    "    while eps > tol:\n",
    "        iteration += 1\n",
    "        if iteration >= max_iter:     # the count will be used to break an infinte loop from occuring\n",
    "            print('break E={}, T={}, MP={}, S={}, E+MP-S={}'.format(E, T, MP, S, E+MP-S))\n",
    "            break\n",
    "        if tempVal < MP:\n",
    "            lower_vol = vi\n",
    "        else:\n",
    "            upper_vol = vi\n",
    "            \n",
    "        BS_Low = BSF(S=S, E=E, T=T, sigma=lower_vol, r=r)\n",
    "        BS_High = BSF(S=S, E=E, T=T, sigma=upper_vol, r=r)\n",
    "        vi = lower_vol + (MP - BS_Low)*(upper_vol - lower_vol)/(BS_High - BS_Low)\n",
    "        tempVal = BSF(S=S, E=E, T=T, sigma=vi, r=r)\n",
    "        eps = abs(MP - tempVal)\n",
    "    return vi"
   ]
  },
  {
   "cell_type": "code",
   "execution_count": null,
   "id": "fcaddddd",
   "metadata": {},
   "outputs": [],
   "source": [
    "# Newton-Raphson method for calculating implied volatility (IV)\n",
    "def Newton(MP, S1, E1, r1, T1):\n",
    "    epsilon = 1 # constant to be used in the calculation\n",
    "    tol = 1e-5 # tolerance of volatility estimate\n",
    "    count = 0 # count how many estimates are required \n",
    "    max_iter = 10000 # cut the loop once max_iter has been reached\n",
    "    sigma = np.sqrt(np.abs(np.log(S1/E1) + r1*T1)*(2/T1)) # initial estimate of volatility\n",
    "    while epsilon > tol:\n",
    "        count += 1                # Incase there is an error in the calculation, \n",
    "        if count >= max_iter:     # the count will be used to break an infinte loop from occuring\n",
    "            print('break E={}, T={}, MP={}, S={}, E+MP-S={}'.format(E1, T1, MP, S1, E1+MP-S1))\n",
    "            break\n",
    "        orig_vol = sigma # store the previous estimate\n",
    "        BSP = BSF(S=S1, E=E1, T=T1, sigma=sigma, r=r1) # Black-Scholes price from previous estimate\n",
    "        vega = Vega(S=S1, E=E1, T=T1, sigma=sigma, r=r1)\n",
    "        if vega == 0:\n",
    "            sigma = bisection(S=S1, E=E1, T=T1, r=r1, MP=MP, sigma=sigma)\n",
    "            return sigma\n",
    "        sigma = sigma - (BSP - MP) / vega # Newton-Raphson calculation\n",
    "        epsilon = abs(sigma - orig_vol) # Tolerance to be obtained in the estimate to break the calultion loop\n",
    "    if m.isnan(sigma)==True or sigma < 0:\n",
    "        sigma = bisection(S=S1, E=E1, T=T1, r=r1, MP=MP, sigma=sigma)\n",
    "    return sigma"
   ]
  },
  {
   "cell_type": "code",
   "execution_count": null,
   "id": "78719715",
   "metadata": {},
   "outputs": [],
   "source": [
    "# Generate an array of Strike prices, this range from 0.8*F(0) to 1.1*F(0)\n",
    "def StrikePrice(F_0):\n",
    "    return np.linspace(F_0*0.8, F_0*1.1, len(T)-1)"
   ]
  },
  {
   "cell_type": "code",
   "execution_count": null,
   "id": "ca99e044",
   "metadata": {},
   "outputs": [],
   "source": [
    "# Calculate implied volatility of options\n",
    "def ImpliedVolatility(T, F_0, r, alpha, rho, theta, sig_0, N, M, E):\n",
    "    F_T, sigma = Implicit(T=T, N=N, sig_0=sig_0, M=M, alpha=alpha, F_0=F_0, rho=rho, theta=theta) # Simulate Forward prices\n",
    "    V = OptionValue(F=F_T, E=E, T=T, r=r) # calculate option values\n",
    "    IV = Newton(MP=V, S1=F_0, E1=E, r1=r, T1=T) # produce implied volatilities\n",
    "    return IV, V, F_T, sigma"
   ]
  },
  {
   "cell_type": "code",
   "execution_count": null,
   "id": "0cefc90d",
   "metadata": {},
   "outputs": [],
   "source": [
    "theta = np.array([0.1, 0.2, 0.3, 0.4, 0.5, 0.6, 0.7, 0.8, 0.9]) # evaluate over range of theta values\n",
    "ImpVol = np.zeros((len(theta), len(T)-1, len(T))) # matrix to store implied volatility\n",
    "OptionPrice = np.zeros((len(theta), len(T)-1, len(T))) # matrix to store option price values\n",
    "F = np.zeros((len(theta), len(T)-1, len(T))) # matrix to store forward prices\n",
    "sig = np.zeros((len(theta), len(T)-1, len(T))) # matrix to store sigma from forward prices\n",
    "E = StrikePrice(F_0=F_0)\n",
    "for k in range(len(theta)):\n",
    "    for j in range(len(T)):\n",
    "        for i in range(len(E)):\n",
    "            ImpVol[k, i, j], OptionPrice[k, i, j], F[k, i, j], sig[k, i, j] = ImpliedVolatility(T=T[j], F_0=F_0, r=rInterp[j], alpha=alpha, \n",
    "                                             rho=rho, theta=theta[k], sig_0=sig_0, N=N[j], M=M, E=E[i])"
   ]
  },
  {
   "cell_type": "code",
   "execution_count": null,
   "id": "d58822f7",
   "metadata": {},
   "outputs": [],
   "source": [
    "# plot the volatility surface\n",
    "fig = plt.figure(figsize = (10, 10))\n",
    "ax = plt.axes(projection='3d')\n",
    "X, Y = np.meshgrid(T, E)\n",
    "s = ax.plot_surface(X, Y, ImpVol[5,:,:], cmap = 'Spectral')\n",
    "ax.set_xlabel('Time to Maturity', fontsize=14)\n",
    "ax.set_ylabel('Strike', fontsize=14)\n",
    "ax.set_zlabel('Volatility', fontsize=14)\n",
    "ax.set_title('Implied Volatility Surface', fontsize=16)\n",
    "fig.colorbar(s, shrink=0.5, aspect=20)\n",
    "plt.show()"
   ]
  },
  {
   "cell_type": "code",
   "execution_count": null,
   "id": "eee99645",
   "metadata": {},
   "outputs": [],
   "source": [
    "# Plot volatility smile\n",
    "plt.plot(E, npVol[:,12])\n",
    "plt.xlabel('Stike Price')\n",
    "plt.ylabel('Implied Volatility')\n",
    "plt.show()"
   ]
  }
 ],
 "metadata": {
  "kernelspec": {
   "display_name": "Python 3",
   "language": "python",
   "name": "python3"
  },
  "language_info": {
   "codemirror_mode": {
    "name": "ipython",
    "version": 3
   },
   "file_extension": ".py",
   "mimetype": "text/x-python",
   "name": "python",
   "nbconvert_exporter": "python",
   "pygments_lexer": "ipython3",
   "version": "3.7.11"
  }
 },
 "nbformat": 4,
 "nbformat_minor": 5
}
