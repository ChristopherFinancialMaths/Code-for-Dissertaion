{
 "cells": [
  {
   "cell_type": "code",
   "execution_count": null,
   "metadata": {},
   "outputs": [],
   "source": [
    "import numpy as np\n",
    "import pandas as pd\n",
    "import matplotlib.pyplot as plt\n",
    "from pandas_datareader.data import DataReader as dr\n",
    "from mpl_toolkits.mplot3d import axes3d\n",
    "from scipy.stats import norm\n",
    "import math as m"
   ]
  },
  {
   "cell_type": "code",
   "execution_count": null,
   "metadata": {},
   "outputs": [],
   "source": [
    "M = 10**2 # number paths simulated\n",
    "F_0 = 5000 # F(0)\n",
    "alpha = 1 # alpha coefficient in the SABR model\n",
    "rho = 0.25 # correlation between B1 and B2, rho is an element of [-1, 1]\n",
    "sig_0 = 0.01 # sigma9=(0)\n",
    "T = 100 # Time\n",
    "N = int(np.round(T/(1/365),0)) # Number of steps to match a 1 day step size"
   ]
  },
  {
   "cell_type": "code",
   "execution_count": null,
   "metadata": {},
   "outputs": [],
   "source": [
    "def Implicit(T, N, sig_0, M, alpha, F_0, rho, theta):\n",
    "    dt = T/N # time step\n",
    "    Y_0 = (1/(1-theta))*F_0**(1-theta) # convert F(0) to Y(0)\n",
    "    Y_n = np.ones((M, N+1))*Y_0 # array to hold values for Y at t for each monte carlo simulation\n",
    "    sig_t = np.ones((M, N+1))*sig_0 # array to hold values for sigma at t for each monte carlo simulation\n",
    "    F_n = np.ones((M, N+1))*F_0 # array to hold F when converted back from Y\n",
    "    A = np.array([alpha*rho, alpha*np.sqrt(1 - rho**2)], dtype=float) # Cholesky factor\n",
    "    for i in range(int(M)):\n",
    "        Z = np.sqrt(dt) * np.random.normal(0, 1, (2, N)) # Brownian increment\n",
    "        B = np.insert(np.cumsum(Z, axis=1), 0, 0, axis=1) # Brownian path\n",
    "        for j in range(int(N)):\n",
    "            B2 = A[0]*(B[0,i+1]-B[0,i]) + A[1]*(B[1,i+1]-B[1,i]) # Brownian motion for B1 in the SABR model\n",
    "            sig_t[i, j+1] = sig_t[i, j]*np.exp((-alpha**2 / 2)*dt + B2) # sigma(t)\n",
    "            B1 = sig_t[i, j+1]*(B[0,i+1] - B[0, i]) # Brownian motion for B1 in the SABR model\n",
    "            Y_n[i, j+1] = ((Y_n[i, j]+ B1)/2) + \\\n",
    "            np.sqrt((((Y_n[i, j] + B1)**2)/4) - ((sig_t[i,j+1]**2) * dt * theta) / (2 * (1 - theta))) # compute Yn\n",
    "            F_n[i, j+1] = (Y_n[i,j+1] * (1 - theta))**(1/(1 - theta)) # convert back to F(0)\n",
    "    \n",
    "    return F_n # return F(T) for M paths"
   ]
  },
  {
   "cell_type": "code",
   "execution_count": null,
   "metadata": {},
   "outputs": [],
   "source": [
    "theta_1 = Implicit(T=T, N=N, sig_0=sig_0, M=M, alpha=alpha, F_0=F_0, rho=rho, theta=0.1)\n",
    "theta_2 = Implicit(T=T, N=N, sig_0=sig_0, M=M, alpha=alpha, F_0=F_0, rho=rho, theta=0.2)\n",
    "theta_3 = Implicit(T=T, N=N, sig_0=sig_0, M=M, alpha=alpha, F_0=F_0, rho=rho, theta=0.3)\n",
    "theta_4 = Implicit(T=T, N=N, sig_0=sig_0, M=M, alpha=alpha, F_0=F_0, rho=rho, theta=0.4)\n",
    "theta_5 = Implicit(T=T, N=N, sig_0=sig_0, M=M, alpha=alpha, F_0=F_0, rho=rho, theta=0.5)\n",
    "theta_6 = Implicit(T=T, N=N, sig_0=sig_0, M=M, alpha=alpha, F_0=F_0, rho=rho, theta=0.6)\n",
    "theta_7 = Implicit(T=T, N=N, sig_0=sig_0, M=M, alpha=alpha, F_0=F_0, rho=rho, theta=0.7)\n",
    "theta_8 = Implicit(T=T, N=N, sig_0=sig_0, M=M, alpha=alpha, F_0=F_0, rho=rho, theta=0.8)\n",
    "theta_9 = Implicit(T=T, N=N, sig_0=sig_0, M=M, alpha=alpha, F_0=F_0, rho=rho, theta=0.9)"
   ]
  },
  {
   "cell_type": "code",
   "execution_count": null,
   "metadata": {},
   "outputs": [],
   "source": [
    "dt = T/N\n",
    "time = np.arange(0, T+dt, dt) # time array for plots"
   ]
  },
  {
   "cell_type": "markdown",
   "metadata": {},
   "source": [
    "### Plots for each theta"
   ]
  },
  {
   "cell_type": "code",
   "execution_count": null,
   "metadata": {},
   "outputs": [],
   "source": [
    "plt.figure(figsize=(12.5,7.5))\n",
    "plt.plot(time, theta_1.transpose())\n",
    "# plt.plot(time,np.mean(theta_1, axis=0), c='red', linewidth=5)\n",
    "plt.xlabel('Time (Years)', fontsize=18)\n",
    "plt.ylabel(r'$\\tilde{F}(t)$', fontsize=24)\n",
    "plt.show()"
   ]
  },
  {
   "cell_type": "code",
   "execution_count": null,
   "metadata": {},
   "outputs": [],
   "source": [
    "plt.figure(figsize=(12.5,7.5))\n",
    "plt.plot(time, theta_2.transpose())\n",
    "# plt.plot(time,np.mean(theta_1, axis=0), c='red', linewidth=5)\n",
    "plt.xlabel('Time (Years)', fontsize=18)\n",
    "plt.ylabel(r'$\\tilde{F}(t)$', fontsize=24)\n",
    "plt.show()"
   ]
  },
  {
   "cell_type": "code",
   "execution_count": null,
   "metadata": {},
   "outputs": [],
   "source": [
    "plt.figure(figsize=(12.5,7.5))\n",
    "plt.plot(time, theta_3.transpose())\n",
    "# plt.plot(time,np.mean(theta_1, axis=0), c='red', linewidth=5)\n",
    "plt.xlabel('Time (Years)', fontsize=18)\n",
    "plt.ylabel(r'$\\tilde{F}(t)$', fontsize=24)\n",
    "plt.show()"
   ]
  },
  {
   "cell_type": "code",
   "execution_count": null,
   "metadata": {},
   "outputs": [],
   "source": [
    "plt.figure(figsize=(12.5,7.5))\n",
    "plt.plot(time, theta_4.transpose())\n",
    "# plt.plot(time,np.mean(theta_1, axis=0), c='red', linewidth=5)\n",
    "plt.xlabel('Time (Years)', fontsize=18)\n",
    "plt.ylabel(r'$\\tilde{F}(t)$', fontsize=24)\n",
    "plt.show()"
   ]
  },
  {
   "cell_type": "code",
   "execution_count": null,
   "metadata": {},
   "outputs": [],
   "source": [
    "plt.figure(figsize=(12.5,7.5))\n",
    "plt.plot(time, theta_5.transpose())\n",
    "# plt.plot(time,np.mean(theta_1, axis=0), c='red', linewidth=5)\n",
    "plt.xlabel('Time (Years)', fontsize=18)\n",
    "plt.ylabel(r'$\\tilde{F}(t)$', fontsize=24)\n",
    "plt.show()"
   ]
  },
  {
   "cell_type": "code",
   "execution_count": null,
   "metadata": {},
   "outputs": [],
   "source": [
    "plt.figure(figsize=(12.5,7.5))\n",
    "plt.plot(time, theta_6.transpose())\n",
    "# plt.plot(time,np.mean(theta_1, axis=0), c='red', linewidth=5)\n",
    "plt.xlabel('Time (Years)', fontsize=18)\n",
    "plt.ylabel(r'$\\tilde{F}(t)$', fontsize=24)\n",
    "plt.show()"
   ]
  },
  {
   "cell_type": "code",
   "execution_count": null,
   "metadata": {},
   "outputs": [],
   "source": [
    "plt.figure(figsize=(12.5,7.5))\n",
    "plt.plot(time, theta_7.transpose())\n",
    "# plt.plot(time,np.mean(theta_1, axis=0), c='red', linewidth=5)\n",
    "plt.xlabel('Time (Years)', fontsize=18)\n",
    "plt.ylabel(r'$\\tilde{F}(t)$', fontsize=24)\n",
    "plt.show()"
   ]
  },
  {
   "cell_type": "code",
   "execution_count": null,
   "metadata": {},
   "outputs": [],
   "source": [
    "plt.figure(figsize=(12.5,7.5))\n",
    "plt.plot(time, theta_8.transpose())\n",
    "# plt.plot(time,np.mean(theta_1, axis=0), c='red', linewidth=5)\n",
    "plt.xlabel('Time (Years)', fontsize=18)\n",
    "plt.ylabel(r'$\\tilde{F}(t)$', fontsize=24)\n",
    "plt.show()"
   ]
  },
  {
   "cell_type": "code",
   "execution_count": null,
   "metadata": {},
   "outputs": [],
   "source": [
    "plt.figure(figsize=(12.5,7.5))\n",
    "plt.plot(time, theta_9.transpose())\n",
    "# plt.plot(time,np.mean(theta_1, axis=0), c='red', linewidth=5)\n",
    "plt.xlabel('Time (Years)', fontsize=18)\n",
    "plt.ylabel(r'$\\tilde{F}(t)$', fontsize=24)\n",
    "plt.show()"
   ]
  },
  {
   "cell_type": "code",
   "execution_count": null,
   "metadata": {},
   "outputs": [],
   "source": []
  }
 ],
 "metadata": {
  "kernelspec": {
   "display_name": "Python 3",
   "language": "python",
   "name": "python3"
  },
  "language_info": {
   "codemirror_mode": {
    "name": "ipython",
    "version": 3
   },
   "file_extension": ".py",
   "mimetype": "text/x-python",
   "name": "python",
   "nbconvert_exporter": "python",
   "pygments_lexer": "ipython3",
   "version": "3.7.11"
  }
 },
 "nbformat": 4,
 "nbformat_minor": 4
}
