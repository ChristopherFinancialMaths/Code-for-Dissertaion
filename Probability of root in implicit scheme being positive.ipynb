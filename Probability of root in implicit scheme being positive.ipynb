{
 "cells": [
  {
   "cell_type": "code",
   "execution_count": null,
   "id": "94c19961",
   "metadata": {},
   "outputs": [],
   "source": [
    "import numpy as np\n",
    "import math as m\n",
    "import pandas as pd\n",
    "import matplotlib.pyplot as plt\n",
    "from mpl_toolkits.mplot3d import axes3d\n",
    "from scipy.stats import norm\n",
    "%matplotlib inline"
   ]
  },
  {
   "cell_type": "code",
   "execution_count": null,
   "id": "33678e51",
   "metadata": {},
   "outputs": [],
   "source": [
    "# Right hand side of the inequality 3.11\n",
    "def formula(y, h, sigma, theta):\n",
    "    # y = Y(t)\n",
    "    # h = T/N\n",
    "    return  m.sqrt(2*theta/(1-theta)) - y / (sigma * np.sqrt(h))"
   ]
  },
  {
   "cell_type": "code",
   "execution_count": null,
   "id": "6a83943b",
   "metadata": {},
   "outputs": [],
   "source": [
    "# Gives the probability of the square root in Eq.(3.7) being positive\n",
    "# Uses the cumulative distribution function\n",
    "def probability(y, h, sigma, theta):\n",
    "    return 1 - norm.cdf(formula(y, h, sigma, theta))"
   ]
  },
  {
   "cell_type": "code",
   "execution_count": null,
   "id": "08829088",
   "metadata": {},
   "outputs": [],
   "source": [
    "# Parameters\n",
    "sig = 0.2\n",
    "theta = 0.5"
   ]
  },
  {
   "cell_type": "code",
   "execution_count": null,
   "id": "e4f2512e",
   "metadata": {},
   "outputs": [],
   "source": [
    "# Range of values for y and h\n",
    "Yn = np.linspace(0.001, 1.5, 10000)\n",
    "h = np.linspace(0.001, 1, 1000)"
   ]
  },
  {
   "cell_type": "code",
   "execution_count": null,
   "id": "e1ea00fb",
   "metadata": {},
   "outputs": [],
   "source": [
    "probSurface = np.zeros((len(Yn), len(h)))\n",
    "for i in range(len(Yn)):\n",
    "    probSurface[i, :] = probability(y=Yn[i], h=h, sigma=sig, theta=theta)"
   ]
  },
  {
   "cell_type": "code",
   "execution_count": null,
   "id": "c650082e",
   "metadata": {},
   "outputs": [],
   "source": [
    "# Probability plot\n",
    "fig = plt.figure(figsize = (10, 10))\n",
    "ax = plt.axes(projection='3d')\n",
    "X, Y = np.meshgrid(h, Yn)\n",
    "s = ax.plot_surface(X, Y, probSurface, cmap = 'Spectral')\n",
    "ax.set_xlabel('h', fontsize=18)\n",
    "ax.set_ylabel('Y', fontsize=18)\n",
    "ax.set_zlabel('Probability', fontsize=18)\n",
    "ax.xaxis.set_tick_params(labelsize=12)\n",
    "ax.yaxis.set_tick_params(labelsize=12)\n",
    "ax.zaxis.set_tick_params(labelsize=12)\n",
    "# ax.set_title('Probability surface plot', fontsize=16)\n",
    "fig.colorbar(s, shrink=0.5, aspect=20)\n",
    "plt.show()\n",
    "# ax.figure.savefig('C:\\\\Users\\\\chris\\\\Documents\\\\Financial and computational maths\\\\MF6016 Dissertation\\\\final report\\\\figures\\\\Prob_sig=0.2_Y=1.5_h=1.jpg', bbox_inches = 'tight', pad_inches = 0)"
   ]
  },
  {
   "cell_type": "markdown",
   "id": "0a256f2d",
   "metadata": {},
   "source": [
    "### $Y_n$ $\\epsilon$ [0.001, 1.5] in 10,000 steps \n",
    "### h $\\epsilon$ [0.001, 1] in 1,000 steps "
   ]
  },
  {
   "cell_type": "code",
   "execution_count": null,
   "id": "3969a40b",
   "metadata": {},
   "outputs": [],
   "source": [
    "# Range of values for y and h\n",
    "Yn = np.linspace(0.001, 0.2, 10000)\n",
    "h = np.linspace(0.001, 0.01, 1000)"
   ]
  },
  {
   "cell_type": "code",
   "execution_count": null,
   "id": "75c26e79",
   "metadata": {},
   "outputs": [],
   "source": [
    "probSurface = np.zeros((len(Yn), len(h)))\n",
    "for i in range(len(Yn)):\n",
    "    probSurface[i, :] = probability(y=Yn[i], h=h, sigma=sig, theta=theta)"
   ]
  },
  {
   "cell_type": "code",
   "execution_count": null,
   "id": "89459631",
   "metadata": {},
   "outputs": [],
   "source": [
    "fig = plt.figure(figsize = (10, 10))\n",
    "ax = plt.axes(projection='3d')\n",
    "X, Y = np.meshgrid(h, Yn)\n",
    "s = ax.plot_surface(X, Y, probSurface, cmap = 'Spectral')\n",
    "ax.set_xlabel('h', fontsize=18)\n",
    "ax.set_ylabel('Y', fontsize=18)\n",
    "ax.set_zlabel('Probability', fontsize=18)\n",
    "ax.xaxis.set_tick_params(labelsize=12)\n",
    "ax.yaxis.set_tick_params(labelsize=12)\n",
    "ax.zaxis.set_tick_params(labelsize=12)\n",
    "fig.colorbar(s, shrink=0.5, aspect=20)\n",
    "plt.show()\n",
    "# ax.figure.savefig('C:\\\\Users\\\\chris\\\\Documents\\\\Financial and computational maths\\\\MF6016 Dissertation\\\\final report\\\\figures\\\\Prob_sig=0.2_Y=0.2_h=0.01.jpg')"
   ]
  },
  {
   "cell_type": "markdown",
   "id": "1c54a69a",
   "metadata": {},
   "source": [
    "### $Y_n$ $\\epsilon$ [0.001, .2] in 10,000 steps \n",
    "### h $\\epsilon$ [0.001, 0.01] in 1,000 steps "
   ]
  },
  {
   "cell_type": "code",
   "execution_count": null,
   "id": "a7d4a849",
   "metadata": {},
   "outputs": [],
   "source": [
    "# parameters\n",
    "sig = 1\n",
    "theta = 0.1"
   ]
  },
  {
   "cell_type": "code",
   "execution_count": null,
   "id": "5daea5d6",
   "metadata": {},
   "outputs": [],
   "source": [
    "# Range of values for y and h\n",
    "Yn = np.linspace(0.001, 1.5, 10000)\n",
    "h = np.linspace(0.001, 1, 1000)"
   ]
  },
  {
   "cell_type": "code",
   "execution_count": null,
   "id": "1846a30d",
   "metadata": {},
   "outputs": [],
   "source": [
    "probSurface = np.zeros((len(Yn), len(h)))\n",
    "for i in range(len(Yn)):\n",
    "    probSurface[i, :] = probability(y=Yn[i], h=h, sigma=sig, theta=theta)"
   ]
  },
  {
   "cell_type": "code",
   "execution_count": null,
   "id": "9b124dc2",
   "metadata": {},
   "outputs": [],
   "source": [
    "fig = plt.figure(figsize = (10, 10))\n",
    "ax = plt.axes(projection='3d')\n",
    "X, Y = np.meshgrid(h, Yn)\n",
    "s = ax.plot_surface(X, Y, probSurface, cmap = 'Spectral')\n",
    "ax.set_xlabel('h', fontsize=18)\n",
    "ax.set_ylabel('Y', fontsize=18)\n",
    "ax.set_zlabel('Probability', fontsize=18)\n",
    "ax.xaxis.set_tick_params(labelsize=12)\n",
    "ax.yaxis.set_tick_params(labelsize=12)\n",
    "ax.zaxis.set_tick_params(labelsize=12)\n",
    "fig.colorbar(s, shrink=0.5, aspect=20)\n",
    "plt.show()\n",
    "# ax.figure.savefig('C:\\\\Users\\\\chris\\\\Documents\\\\Financial and computational maths\\\\MF6016 Dissertation\\\\final report\\\\figures\\\\Prob_sig=1_Y=1.5_h=1.jpg', bbox_inches = 'tight', pad_inches = 0)"
   ]
  },
  {
   "cell_type": "markdown",
   "id": "4ca95555",
   "metadata": {},
   "source": [
    "### $Y_n$ $\\epsilon$ [0.001, 1.5] in 10,000 steps \n",
    "### h $\\epsilon$ [0.001, 1] in 1,000 steps "
   ]
  },
  {
   "cell_type": "code",
   "execution_count": null,
   "id": "4d9e386a",
   "metadata": {},
   "outputs": [],
   "source": [
    "# Range of values for y and h\n",
    "Yn = np.linspace(0.001, 0.2, 10000)\n",
    "h = np.linspace(0.001, 0.01, 1000)"
   ]
  },
  {
   "cell_type": "code",
   "execution_count": null,
   "id": "0c33dbd6",
   "metadata": {},
   "outputs": [],
   "source": [
    "probSurface = np.zeros((len(Yn), len(h)))\n",
    "for i in range(len(Yn)):\n",
    "    probSurface[i, :] = probability(y=Yn[i], h=h, sigma=sig, theta=theta)"
   ]
  },
  {
   "cell_type": "code",
   "execution_count": null,
   "id": "28c023fc",
   "metadata": {},
   "outputs": [],
   "source": [
    "fig = plt.figure(figsize = (10, 10))\n",
    "ax = plt.axes(projection='3d')\n",
    "X, Y = np.meshgrid(h, Yn)\n",
    "s = ax.plot_surface(X, Y, probSurface, cmap = 'Spectral')\n",
    "ax.set_xlabel('h', fontsize=18)\n",
    "ax.set_ylabel('Y', fontsize=18)\n",
    "ax.set_zlabel('Probability', fontsize=18)\n",
    "ax.xaxis.set_tick_params(labelsize=12)\n",
    "ax.yaxis.set_tick_params(labelsize=12)\n",
    "ax.zaxis.set_tick_params(labelsize=12)\n",
    "fig.colorbar(s, shrink=0.5, aspect=20)\n",
    "plt.show()\n",
    "# ax.figure.savefig('C:\\\\Users\\\\chris\\\\Documents\\\\Financial and computational maths\\\\MF6016 Dissertation\\\\final report\\\\figures\\\\Prob_sig=1_Y=0.2_h=0.01.jpg')"
   ]
  },
  {
   "cell_type": "markdown",
   "id": "24fabbf7",
   "metadata": {},
   "source": [
    "### $Y_n$ $\\epsilon$ [0.001, 0.2] in 10,000 steps \n",
    "### h $\\epsilon$ [0.001, 0.01] in 1,000 steps "
   ]
  },
  {
   "cell_type": "code",
   "execution_count": null,
   "id": "cb945add",
   "metadata": {},
   "outputs": [],
   "source": [
    "# Range of values for y and h\n",
    "Yn = np.linspace(0.001, 0.1, 10000)\n",
    "h = np.linspace(0.001, 0.01, 1000)"
   ]
  },
  {
   "cell_type": "code",
   "execution_count": null,
   "id": "d3cf6c7d",
   "metadata": {},
   "outputs": [],
   "source": [
    "probSurface = np.zeros((len(Yn), len(h)))\n",
    "for i in range(len(Yn)):\n",
    "    probSurface[i, :] = probability(y=Yn[i], h=h, sigma=sig, theta=theta)"
   ]
  },
  {
   "cell_type": "code",
   "execution_count": null,
   "id": "efe35efa",
   "metadata": {},
   "outputs": [],
   "source": [
    "fig = plt.figure(figsize = (10, 10))\n",
    "ax = plt.axes(projection='3d')\n",
    "X, Y = np.meshgrid(h, Yn)\n",
    "s = ax.plot_surface(X, Y, probSurface, cmap = 'Spectral')\n",
    "ax.set_xlabel('h', fontsize=14)\n",
    "ax.set_ylabel('Yn', fontsize=14)\n",
    "ax.set_zlabel('Probability', fontsize=14)\n",
    "ax.set_title('Probability surface plot', fontsize=16)\n",
    "fig.colorbar(s, shrink=0.5, aspect=20)\n",
    "plt.show()"
   ]
  },
  {
   "cell_type": "markdown",
   "id": "5bae2eba",
   "metadata": {},
   "source": [
    "### $Y_n$ $\\epsilon$ [0.001, 0.1] in 10,000 steps \n",
    "### h $\\epsilon$ [0.001, 0.01] in 1,000 steps "
   ]
  },
  {
   "cell_type": "code",
   "execution_count": null,
   "id": "ffd090eb",
   "metadata": {},
   "outputs": [],
   "source": [
    "# Range of values for y and h\n",
    "Yn = np.linspace(0.001, 0.1, 10000)\n",
    "h = np.linspace(0.0001, 0.01, 10000)"
   ]
  },
  {
   "cell_type": "code",
   "execution_count": null,
   "id": "b6e9c919",
   "metadata": {},
   "outputs": [],
   "source": [
    "probSurface = np.zeros((len(Yn), len(h)))\n",
    "for i in range(len(Yn)):\n",
    "    probSurface[i, :] = probability(y=Yn[i], h=h, sigma=sig, theta=theta)"
   ]
  },
  {
   "cell_type": "code",
   "execution_count": null,
   "id": "952fae00",
   "metadata": {},
   "outputs": [],
   "source": [
    "fig = plt.figure(figsize = (10, 10))\n",
    "ax = plt.axes(projection='3d')\n",
    "X, Y = np.meshgrid(h, Yn)\n",
    "s = ax.plot_surface(X, Y, probSurface, cmap = 'Spectral')\n",
    "ax.set_xlabel('h', fontsize=14)\n",
    "ax.set_ylabel('Yn', fontsize=14)\n",
    "ax.set_zlabel('Probability', fontsize=14)\n",
    "ax.set_title('Probability surface plot', fontsize=16)\n",
    "fig.colorbar(s, shrink=0.5, aspect=20)\n",
    "plt.show()"
   ]
  },
  {
   "cell_type": "markdown",
   "id": "eff3df38",
   "metadata": {},
   "source": [
    "### $Y_n$ $\\epsilon$ [0.001, 0.1] in 10,000 steps \n",
    "### h $\\epsilon$ [0.0001, 0.01] in 10,000 steps "
   ]
  }
 ],
 "metadata": {
  "kernelspec": {
   "display_name": "Python 3",
   "language": "python",
   "name": "python3"
  },
  "language_info": {
   "codemirror_mode": {
    "name": "ipython",
    "version": 3
   },
   "file_extension": ".py",
   "mimetype": "text/x-python",
   "name": "python",
   "nbconvert_exporter": "python",
   "pygments_lexer": "ipython3",
   "version": "3.7.11"
  }
 },
 "nbformat": 4,
 "nbformat_minor": 5
}
