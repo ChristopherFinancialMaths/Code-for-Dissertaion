{
 "cells": [
  {
   "cell_type": "code",
   "execution_count": null,
   "id": "ccecc06f",
   "metadata": {},
   "outputs": [],
   "source": [
    "import numpy as np\n",
    "import pandas as pd\n",
    "import matplotlib.pyplot as plt\n",
    "import math as m\n",
    "from scipy.stats import linregress # used to get the linear parameters from the results"
   ]
  },
  {
   "cell_type": "code",
   "execution_count": null,
   "id": "d9f544fe",
   "metadata": {},
   "outputs": [],
   "source": [
    "# Parameters\n",
    "T = 1 # time\n",
    "alpha = 0.01 # alpha coefficient in the SABR model\n",
    "rho = 0.25 # correlation between F(t) and sigma(t), rho is an element of [-1, 1]\n",
    "M=10**4 # Monte Carlo simulations"
   ]
  },
  {
   "cell_type": "code",
   "execution_count": null,
   "id": "282ec754",
   "metadata": {},
   "outputs": [],
   "source": [
    "# Function will compute the strong error for the implicit EM approximation of the Lamperti transformation\n",
    "# The Milstein approximation of the SABR model will be used as the reference solution to calculate strong error\n",
    "def Implicit(T, N, sig_0, M, alpha, Y_0, rho, theta):\n",
    "    # sig_0 = sigma(0)\n",
    "    dt = T/N # step size\n",
    "    Milstein_N = 2**18 # Number of steps for reference solution\n",
    "    Y_n = np.ones(M)*Y_0 # array to hold values for Y at t for each monte carlo simulation\n",
    "    sig_t = np.ones(M)*sig_0 # array to hold values for sigma at t for each monte carlo simulation\n",
    "    F_0 = (Y_0 * (1 - theta))**(1/(1 - theta)) # convert Y(0) to F(0)\n",
    "    Mil = np.ones(M)*F_0 # array to hold values for Milstein at t for each monte carlo simulation\n",
    "    A = np.array([alpha*rho, alpha*np.sqrt(1 - rho**2)]) # Cholesky factor\n",
    "    dt_mil = T/Milstein_N # step size for reference solution\n",
    "    B = np.zeros(M) # empty array to hold cumulative Brownian motion\n",
    "    B1_Y = np.zeros(M) # empty array to hold Brownian motion\n",
    "    for i in range(Milstein_N):\n",
    "        Z = np.sqrt(dt_mil) * np.random.normal(0, 1, (2, M)) # calculate Brownian increment for B1 and B2\n",
    "        B += Z[0,:] # cumulate the Brownian increment for B1\n",
    "        B2 = A[0]*Z[0,:] + A[1]*Z[1,:]  # Brownian motion for B2 in the reference solution\n",
    "        B1 = Z[0, :] # Brownian motion for B1 in the reference solution\n",
    "        sig_t = sig_t*np.exp((-alpha**2 / 2)*dt_mil + B2) # sigma(t)\n",
    "        Mil = Mil + sig_t*B1*np.abs(Mil)**theta +\\\n",
    "            0.5*(sig_t**2)*theta*(B1**2 - dt_mil)*np.abs(Mil)**(2*theta - 1) # Milstein approximation\n",
    "        \n",
    "        # to keep on the same path, Yn will be calculated when the below condition is true\n",
    "        if (i+1)%(Milstein_N//N) == 0:\n",
    "            Y_n = ((Y_n + sig_t*(B-B1_Y))/2) + \\\n",
    "                np.sqrt((((Y_n + sig_t*(B-B1_Y))**2)/4) - (dt * theta * sig_t**2) / (2 * (1 - theta))) # Yn\n",
    "            B1_Y = np.copy(B) # Store the cumulative Brownian motion for B1\n",
    "    \n",
    "    F_n = (Y_n * (1 - theta))**(1/(1 - theta)) # convet Yn to Fn\n",
    "    return F_n, Mil # Return the values when n=N"
   ]
  },
  {
   "cell_type": "code",
   "execution_count": null,
   "id": "97b752d1",
   "metadata": {},
   "outputs": [],
   "source": [
    "thetaSim = np.linspace(0.1, 0.9, 9) # theta values to be evaluated\n",
    "Nsteps = np.array([ 2**6, 2**8, 2**9, 2**10, 2**12]) # Range of step sizes"
   ]
  },
  {
   "cell_type": "code",
   "execution_count": null,
   "id": "865d0e64",
   "metadata": {},
   "outputs": [],
   "source": [
    "Mil_se = pd.DataFrame(columns=['theta=0.1', 'theta=0.2', 'theta=0.3', 'theta=0.4', 'theta=0.5',\n",
    "                                'theta=0.6', 'theta=0.7', 'theta=0.8', 'theta=0.9', 'N'])\n",
    "for i in range(len(Nsteps)):\n",
    "    err = np.zeros(len(thetaSim))\n",
    "    for j in range(len(thetaSim)):\n",
    "        F_T, Mil= Implicit(T=T, N=Nsteps[i], M=M, sig_0=0.05, alpha=alpha, Y_0=10, rho=rho, theta=thetaSim[j])\n",
    "        err[j] = np.mean(np.abs(Mil - F_T)) # Strong error calculation\n",
    "    Mil_se = Mil_se.append({\n",
    "        'theta=0.1':err[0],\n",
    "        'theta=0.2':err[1],\n",
    "        'theta=0.3':err[2],\n",
    "        'theta=0.4':err[3],\n",
    "        'theta=0.5':err[4],\n",
    "        'theta=0.6':err[5],\n",
    "        'theta=0.7':err[6],\n",
    "        'theta=0.8':err[7],\n",
    "        'theta=0.9':err[8],\n",
    "        'N':int(Nsteps[i])\n",
    "    }, ignore_index=True)\n",
    "Mil_se.index = Mil_se.N\n",
    "del Mil_se['N']"
   ]
  },
  {
   "cell_type": "code",
   "execution_count": null,
   "id": "a6b80bdc",
   "metadata": {},
   "outputs": [],
   "source": [
    "# Strong error results\n",
    "Mil_se"
   ]
  },
  {
   "cell_type": "code",
   "execution_count": null,
   "id": "ad80128b",
   "metadata": {},
   "outputs": [],
   "source": [
    "Dt = T / Nsteps\n",
    "plt.figure(figsize=(10, 10))\n",
    "plt.loglog(Dt, error.iloc[:,0],'o', markersize = 10, linestyle = '--', label=r'$\\theta$ = 0.1')\n",
    "plt.loglog(Dt, error.iloc[:,1],'+', markersize = 10, linestyle = '--', label=r'$\\theta$ = 0.2')\n",
    "plt.loglog(Dt, error.iloc[:,2],'1', markersize = 10, linestyle = '--', label=r'$\\theta$ = 0.3')\n",
    "plt.loglog(Dt, error.iloc[:,3],'*', markersize = 10, linestyle = '--', label=r'$\\theta$ = 0.4')\n",
    "plt.loglog(Dt, error.iloc[:,4],'x', markersize = 10, linestyle = '--', label=r'$\\theta$ = 0.5')\n",
    "plt.loglog(Dt, error.iloc[:,5],'d', markersize = 10, linestyle = '--', label=r'$\\theta$ = 0.6')\n",
    "plt.loglog(Dt, error.iloc[:,6],'2', markersize = 10, linestyle = '--', label=r'$\\theta$ = 0.7')\n",
    "plt.loglog(Dt, error.iloc[:,7],'3', markersize = 10, linestyle = '--', label=r'$\\theta$ = 0.8')\n",
    "plt.loglog(Dt, error.iloc[:,8],'4', markersize = 10, linestyle = '--', label=r'$\\theta$ = 0.9')\n",
    "plt.xlabel('h', fontsize=18)\n",
    "plt.ylabel('Sample average of |F(t) - Fn|', fontsize=18)\n",
    "plt.rc('xtick',labelsize=16)\n",
    "plt.rc('ytick',labelsize=16)\n",
    "plt.legend(fontsize=12)\n",
    "plt.savefig('Strong_error_convergence_transformation.jpg')"
   ]
  },
  {
   "cell_type": "code",
   "execution_count": null,
   "id": "80ace434",
   "metadata": {},
   "outputs": [],
   "source": [
    "# calculate the strong order of convergence, gamma, and C\n",
    "for i in range(len(thetaSim)):\n",
    "    Mil_gamma, Mil_C = linregress(np.log(Dt), np.log(error.iloc[:,i]))[0:2]\n",
    "    C_Mil = m.exp(Mil_C)\n",
    "    print('For theta={}, gamma = {} and C = {}\\n'.format(round(thetaSim[i],1), Mil_gamma, C_Mil))"
   ]
  },
  {
   "cell_type": "code",
   "execution_count": null,
   "id": "672d5039",
   "metadata": {},
   "outputs": [],
   "source": []
  }
 ],
 "metadata": {
  "kernelspec": {
   "display_name": "Python 3",
   "language": "python",
   "name": "python3"
  },
  "language_info": {
   "codemirror_mode": {
    "name": "ipython",
    "version": 3
   },
   "file_extension": ".py",
   "mimetype": "text/x-python",
   "name": "python",
   "nbconvert_exporter": "python",
   "pygments_lexer": "ipython3",
   "version": "3.7.11"
  }
 },
 "nbformat": 4,
 "nbformat_minor": 5
}
