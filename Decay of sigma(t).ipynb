{
 "cells": [
  {
   "cell_type": "code",
   "execution_count": null,
   "id": "70a223fe",
   "metadata": {},
   "outputs": [],
   "source": [
    "import numpy as np\n",
    "import matplotlib.pyplot as plt"
   ]
  },
  {
   "cell_type": "code",
   "execution_count": null,
   "id": "937418cb",
   "metadata": {},
   "outputs": [],
   "source": [
    "T = 10 # Time\n",
    "N = 100 # No. of steps\n",
    "dt = T/N # step size\n",
    "sigma = 0.1 # sigma(0)\n",
    "alpha = 1 # alpha, parameter in SABR\n",
    "Z = np.random.normal(0, dt, (2, N)) # B1 & B2\n",
    "rho = -0.9 # correlation between B1 and B2"
   ]
  },
  {
   "cell_type": "code",
   "execution_count": null,
   "id": "bd953190",
   "metadata": {},
   "outputs": [],
   "source": [
    "co_variance = np.array([[sigma**2, sigma*alpha*rho], [sigma*alpha*rho, alpha**2]]) # covariance matrix\n",
    "A = np.linalg.cholesky(co_variance) # cholesky factor"
   ]
  },
  {
   "cell_type": "code",
   "execution_count": null,
   "id": "cac61de0",
   "metadata": {},
   "outputs": [],
   "source": [
    "B2 = np.cumsum(A[1,0]*Z[0,:] + A[1,1]*Z[1,:]) # Brownian path for B2"
   ]
  },
  {
   "cell_type": "code",
   "execution_count": null,
   "id": "e45b5246",
   "metadata": {},
   "outputs": [],
   "source": [
    "t = np.linspace(dt, T, N) # t in [0,10]\n",
    "sig_t = sigma*np.exp((-alpha**2 / 2)*t + B2) # sigma calculated from the SABR model"
   ]
  },
  {
   "cell_type": "code",
   "execution_count": null,
   "id": "863dc161",
   "metadata": {},
   "outputs": [],
   "source": [
    "# Plot of sigma over 10 years\n",
    "plt.plot(t, sig_t)\n",
    "plt.xlabel('t',fontsize=14)\n",
    "plt.ylabel('$\\sigma$(t)',fontsize=14)\n",
    "plt.show()"
   ]
  }
 ],
 "metadata": {
  "kernelspec": {
   "display_name": "Python 3",
   "language": "python",
   "name": "python3"
  },
  "language_info": {
   "codemirror_mode": {
    "name": "ipython",
    "version": 3
   },
   "file_extension": ".py",
   "mimetype": "text/x-python",
   "name": "python",
   "nbconvert_exporter": "python",
   "pygments_lexer": "ipython3",
   "version": "3.7.11"
  }
 },
 "nbformat": 4,
 "nbformat_minor": 5
}
