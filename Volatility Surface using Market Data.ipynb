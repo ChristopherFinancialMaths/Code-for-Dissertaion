{
 "cells": [
  {
   "cell_type": "code",
   "execution_count": null,
   "id": "d74cd7c2",
   "metadata": {},
   "outputs": [],
   "source": [
    "import numpy as np\n",
    "import math as m\n",
    "import pandas as pd\n",
    "import matplotlib.pyplot as plt\n",
    "from mpl_toolkits.mplot3d import axes3d\n",
    "from scipy.stats import norm\n",
    "import yfinance as yf\n",
    "from dateutil import parser\n",
    "from datetime import datetime\n",
    "from pandas_datareader.data import DataReader as dr\n",
    "from scipy.interpolate import CubicSpline\n",
    "%matplotlib inline"
   ]
  },
  {
   "cell_type": "code",
   "execution_count": null,
   "id": "c823e4ea",
   "metadata": {},
   "outputs": [],
   "source": [
    "ticker = 'MSFT' # set stock to be analysed, e.g. MSFT = Microsoft Corporation\n",
    "stock = yf.Ticker('MSFT') # Pull information from Yahoo Finance"
   ]
  },
  {
   "cell_type": "code",
   "execution_count": null,
   "id": "8d69bc47",
   "metadata": {},
   "outputs": [],
   "source": [
    "Maturity = stock.options  # pull the time to maturities for the option\n",
    "today = datetime.today().date() # set todays date\n",
    "maturityDates = np.zeros(len(Maturity))\n",
    "# Process maturity dates to get in terms of 1 year \n",
    "for i in range(len(Maturity)):\n",
    "    t = parser.parse(Maturity[i]).date() - today\n",
    "    maturityDates[i] = t.days/365 "
   ]
  },
  {
   "cell_type": "code",
   "execution_count": null,
   "id": "b1f6997a",
   "metadata": {},
   "outputs": [],
   "source": [
    "# Set the strikes so they are the same for each maturity\n",
    "maxStrike = np.zeros(len(Maturity)) # placeholder\n",
    "minStrike = np.zeros(len(Maturity)) # placeholder\n",
    "for i in range(len(Maturity)):\n",
    "    maxStrike[i] = stock.option_chain(Maturity[i]).calls.iloc[:,2].max() # Find the max strike price at each maturity\n",
    "    minStrike[i] = stock.option_chain(Maturity[i]).calls.iloc[:,2].min() # Find the minimum strike price ate each maturity\n",
    "overallMax = maxStrike.min() # Find the largest strike price each maturity has in common\n",
    "overallMin = minStrike.max() # Find the smallest strike price each maturity has in common"
   ]
  },
  {
   "cell_type": "code",
   "execution_count": null,
   "id": "e387d215",
   "metadata": {},
   "outputs": [],
   "source": [
    "NewStrike = np.arange(overallMin, overallMax + 1) # create a new array for strike prices"
   ]
  },
  {
   "cell_type": "code",
   "execution_count": null,
   "id": "1dfacb23",
   "metadata": {},
   "outputs": [],
   "source": [
    "yahoo_IV = pd.DataFrame(columns=Maturity) # Dataframe for implied volatility\n",
    "# Use the implied volitility data provided in yahoo finance\n",
    "for i in range(len(Maturity)):\n",
    "# Uncomment below if you want to interpolate the implied volatility linearly\n",
    "#     yahoo_IV[Maturity[i]] = np.interp(NewStrike, tsla.option_chain(Maturity[i]).calls.iloc[:,2],\n",
    "#                                      tsla.option_chain(Maturity[i]).calls.iloc[:,10])\n",
    "\n",
    "# Uncomment below if you want to interpolate the implied volatility using a cubic spline\n",
    "    YahooSpline = CubicSpline(stock.option_chain(Maturity[i]).calls.iloc[:,2],\n",
    "                                       stock.option_chain(Maturity[i]).calls.iloc[:,10], bc_type='natural')\n",
    "    yahoo_IV[Maturity[i]] = YahooSpline(NewStrike)\n",
    "yahoo_IV.set_index(NewStrike) "
   ]
  },
  {
   "cell_type": "code",
   "execution_count": null,
   "id": "d771c880",
   "metadata": {},
   "outputs": [],
   "source": [
    "# plot volatility surface\n",
    "yahoo_IV_np = yahoo_IV.to_numpy()\n",
    "# 3D surface plot of matrix V\n",
    "fig = plt.figure(figsize = (10, 10))\n",
    "ax = plt.axes(projection='3d')\n",
    "X, Y =np.meshgrid(maturityDates, NewStrike)\n",
    "s = ax.plot_surface(X, Y, yahoo_IV_np, cmap = 'Spectral')\n",
    "ax.set_xlabel('Time to Maturity', fontsize=14)\n",
    "ax.set_ylabel('Strike Price', fontsize=14)\n",
    "ax.set_zlabel('Implied Volatility', fontsize=14)\n",
    "ax.xaxis.set_tick_params(labelsize=12)\n",
    "ax.yaxis.set_tick_params(labelsize=12)\n",
    "ax.zaxis.set_tick_params(labelsize=12)\n",
    "# ax.set_title('Implied Volatility from Yahoo', fontsize=16)\n",
    "fig.colorbar(s, shrink=0.5, aspect=20)\n",
    "ax.view_init(22.5,45)\n",
    "plt.show()"
   ]
  }
 ],
 "metadata": {
  "kernelspec": {
   "display_name": "Python 3",
   "language": "python",
   "name": "python3"
  },
  "language_info": {
   "codemirror_mode": {
    "name": "ipython",
    "version": 3
   },
   "file_extension": ".py",
   "mimetype": "text/x-python",
   "name": "python",
   "nbconvert_exporter": "python",
   "pygments_lexer": "ipython3",
   "version": "3.7.11"
  }
 },
 "nbformat": 4,
 "nbformat_minor": 5
}
