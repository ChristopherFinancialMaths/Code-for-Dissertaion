{
 "cells": [
  {
   "cell_type": "code",
   "execution_count": null,
   "id": "5068bf1f",
   "metadata": {},
   "outputs": [],
   "source": [
    "import numpy as np\n",
    "import math as m\n",
    "import pandas as pd\n",
    "import matplotlib.pyplot as plt\n",
    "from scipy.stats import norm\n",
    "from yahoo_fin import options\n",
    "from yahoo_fin.stock_info import get_data\n",
    "from dateutil import parser\n",
    "from datetime import datetime\n",
    "from pandas_datareader.data import DataReader as dr\n",
    "%matplotlib inline"
   ]
  },
  {
   "cell_type": "code",
   "execution_count": null,
   "id": "28f525e7",
   "metadata": {},
   "outputs": [],
   "source": [
    "# Black-Scholes formula\n",
    "def BSF(S, E, T, sigma, r):\n",
    "    \n",
    "    # where:\n",
    "    # S is the initial value of the underlying asset\n",
    "    # E is the stike price\n",
    "    # r is the risk free rate\n",
    "    # sigma is the volatility of the underlying asset\n",
    "    # T is the time to maturity\n",
    "    # D is the dividend yield\n",
    "    # option is to define whether a call or put option is being valued\n",
    "    \n",
    "    # d1 is a variable in the black-scholes formula\n",
    "    d1 = (np.log(S / E) + (r + 0.5 * sigma**2) * T) / (sigma * np.sqrt(T))\n",
    "    \n",
    "    # d2 is a variable in the black-scholes formula\n",
    "    d2 = (np.log(S / E) + (r - 0.5 * sigma**2) * T) / (sigma * np.sqrt(T))\n",
    "\n",
    "    value = S * 0.5 * (1 + m.erf(d1 / np.sqrt(2))) - \\\n",
    "        (E * np.exp(-r * T) * 0.5 * (1 + m.erf(d2 / np.sqrt(2))))\n",
    "        \n",
    "    \n",
    "    return value"
   ]
  },
  {
   "cell_type": "code",
   "execution_count": null,
   "id": "3a2c0d09",
   "metadata": {},
   "outputs": [],
   "source": [
    "# the derivative of the Black-Scholes Call price w.r.t volatility\n",
    "def Vega(S, E, T, sigma, r):\n",
    "    \n",
    "    # d1 is a variable in the black-scholes formula\n",
    "    d1 = (np.log(S / E) + (r + 0.5 * sigma**2) * T) / (sigma * np.sqrt(T))\n",
    "    vega = S * norm.pdf(d1) * np.sqrt(T)\n",
    "    \n",
    "    return vega"
   ]
  },
  {
   "cell_type": "code",
   "execution_count": null,
   "id": "491c4d9b",
   "metadata": {},
   "outputs": [],
   "source": [
    "# Bisection method for calculating implied volatility\n",
    "def bisection(S, E, T, r, tol, MP, sigma):\n",
    "    # MP is options market price\n",
    "    upper_vol = 4 # upper estimate\n",
    "    lower_vol = 0.005 # lower estimate\n",
    "    iteration = 0 # iteration counter\n",
    "    tol = 1e-8 # degree of accuracy\n",
    "    eps = 1 # placeholder for error between estimates \n",
    "    max_iter = 1000 # max iteration limit (avoid infinte loop)\n",
    "    BS_Low = BSF(S=S, E=E, T=T, sigma=lower_vol, r=r) # BS price for low estimate\n",
    "    BS_High = BSF(S=S, E=E, T=T, sigma=upper_vol, r=r) # BS price for high estimat\n",
    "    vi = lower_vol + (MP - BS_Low)*(upper_vol - lower_vol)/(BS_High - BS_Low) # Bisection formula\n",
    "    tempVal = BSF(S=S, E=E, T=T, sigma=vi, r=r) # BS price for latest estimate\n",
    "    while eps > tol:\n",
    "        iteration += 1\n",
    "        if iteration >= max_iter:     # the count will be used to break an infinte loop from occuring\n",
    "            print('break E={}, T={}, MP={}, S={}, E+MP-S={}'.format(E, T, MP, S, E+MP-S))\n",
    "            break\n",
    "        if tempVal < MP:\n",
    "            lower_vol = vi\n",
    "        else:\n",
    "            upper_vol = vi\n",
    "            \n",
    "        BS_Low = BSF(S=S, E=E, T=T, sigma=lower_vol, r=r)\n",
    "        BS_High = BSF(S=S, E=E, T=T, sigma=upper_vol, r=r)\n",
    "        vi = lower_vol + (MP - BS_Low)*(upper_vol - lower_vol)/(BS_High - BS_Low)\n",
    "        tempVal = BSF(S=S, E=E, T=T, sigma=vi, r=r)\n",
    "        eps = abs(MP - tempVal)\n",
    "    return vi"
   ]
  },
  {
   "cell_type": "code",
   "execution_count": null,
   "id": "8e4b4f1a",
   "metadata": {},
   "outputs": [],
   "source": [
    "# Newton-Raphson method for calculating implied volatility (IV)\n",
    "def NewtonRaphson(MP, S1, E1, r1, T1):\n",
    "    epsilon = 1 # constant to be used in the calculation\n",
    "    tol = 1e-5 # tolerance of volatility estimate\n",
    "    count = 0 # count how many estimates are required \n",
    "    max_iter = 10000 # cut the loop once max_iter has been reached\n",
    "    sigma = np.sqrt(np.abs(np.log(S1/E1) + r1*T1)*(2/T1)) # initial estimate of volatility\n",
    "    while epsilon > tol:\n",
    "        count += 1                # Incase there is an error in the calculation, \n",
    "        if count >= max_iter:     # the count will be used to break an infinte loop from occuring\n",
    "            print('break E={}, T={}, MP={}, S={}, E+MP-S={}'.format(E1, T1, MP, S1, E1+MP-S1))\n",
    "            break\n",
    "        orig_vol = sigma # store the previous estimate\n",
    "        BSP = BSF(S=S1, E=E1, T=T1, sigma=sigma, r=r1) # Black-Scholes price from previous estimate\n",
    "        vega = Vega(S=S1, E=E1, T=T1, sigma=sigma, r=r1)\n",
    "        sigma = sigma - (BSP - MP) / vega # Newton-Raphson calculation\n",
    "        epsilon = abs(sigma - orig_vol) # Tolerance to be obtained in the estimate to break the calultion loop\n",
    "    if m.isnan(sigma)==True or sigma < 0:\n",
    "        sigma = bisection(S=S1, E=E1, T=T1, r=r1, tol=tol, MP=MP, sigma=sigma)\n",
    "    return sigma"
   ]
  },
  {
   "cell_type": "code",
   "execution_count": null,
   "id": "6a92120c",
   "metadata": {},
   "outputs": [],
   "source": [
    "ticker = 'MSFT' # set stock to be analysed, e.g. MSFT = Microsoft Corporation\n",
    "stock = options.get_calls(ticker) # Pull information from Yahoo Finance"
   ]
  },
  {
   "cell_type": "code",
   "execution_count": null,
   "id": "cb9a351b",
   "metadata": {},
   "outputs": [],
   "source": [
    "today = datetime.today().date() # set todays date\n",
    "Maturity = options.get_expiration_dates(ticker) # pull the time to maturities for the option\n",
    "for i in range(len(Maturity)):\n",
    "    Maturity[i] = Maturity[i].replace(',', '') # format them so python can subtract from todays date"
   ]
  },
  {
   "cell_type": "code",
   "execution_count": null,
   "id": "857373d8",
   "metadata": {},
   "outputs": [],
   "source": [
    "S = get_data(ticker).iloc[-1,3] # Latest asset price"
   ]
  },
  {
   "cell_type": "code",
   "execution_count": null,
   "id": "3fc7c9f6",
   "metadata": {},
   "outputs": [],
   "source": [
    "# Using the US treasury and Libor rate, create the term struncture for the risk-free rate\n",
    "syms = ['DGS1MO', 'DGS3MO', 'DGS6MO', 'DGS1', 'DGS2', 'DGS3'] # US treasury tickers\n",
    "yc = dr(syms, 'fred') # Pull from the federal reserve website\n",
    "names = dict(zip(syms, ['1m', '3m', '6m', '1yr', '2yr', '3yr'])) # maturity lenght for the rates\n",
    "yc = yc.rename(columns=names)\n",
    "yc = yc[['1m', '3m', '6m','1yr', '2yr', '3yr']]\n",
    "USr = yc.iloc[-1,:].to_numpy()/100 # US treasury constant maturity rate\n",
    "# libor rates effective from the 28/05/2021\n",
    "rWeek = dr('USD1WKD156N', 'fred').iloc[-1]/100 # 1 week libor rate\n",
    "\n",
    "time = np.array([1/52, 1/12, 1/4, 1/2, 1, 2, 3]) # time i.e. 1 week = 1/52, 1 month = 1/12\n",
    "r = np.insert(USr, 0, rWeek) # combine US treasury rate and Libor rate"
   ]
  },
  {
   "cell_type": "code",
   "execution_count": null,
   "id": "d59bdcd6",
   "metadata": {},
   "outputs": [],
   "source": [
    "# Process maturity dates to get in terms of 1 year \n",
    "maturityDates = np.zeros(len(Maturity))\n",
    "for i in range(len(Maturity)):\n",
    "    t = parser.parse(Maturity[i]).date() - today\n",
    "    maturityDates[i] = t.days/365\n",
    "maturityDates"
   ]
  },
  {
   "cell_type": "code",
   "execution_count": null,
   "id": "bb32bf8c",
   "metadata": {},
   "outputs": [],
   "source": [
    "# Choose the option maturiyt rate and calculate the risk-free for that maturity\n",
    "# Change the 10 in square brackets to get a different maturity date\n",
    "opt = options.get_calls(ticker, Maturity[10])\n",
    "newMat = parser.parse(Maturity[10]).date() - today\n",
    "newMat = newMat.days/365\n",
    "timeNew = np.sort(np.append(time, newMat))\n",
    "rNew = np.interp(timeNew, time, r) # interpolate interest rates to find the interest rate for our maturity date\n",
    "rOption = rNew[np.where(timeNew == newMat)]\n",
    "rOption"
   ]
  },
  {
   "cell_type": "code",
   "execution_count": null,
   "id": "dc41b1b0",
   "metadata": {},
   "outputs": [],
   "source": [
    "CallPrice = opt.iloc[:,3] # list of option prices for each strike\n",
    "strike = opt.iloc[:,2] # stike prices available for the maturity date choosen"
   ]
  },
  {
   "cell_type": "code",
   "execution_count": null,
   "id": "3b382d4c",
   "metadata": {},
   "outputs": [],
   "source": [
    "sigmaImplied = np.zeros(len(CallPrice)) # place holder for implied volatility \n",
    "for i in range(len(CallPrice)):\n",
    "    sigmaImplied[i] = NewtonRaphson(MP = CallPrice[i], S1=S, E1=strike[i], r1=rOption, T1=newMat)\n",
    "sigmaImplied[16] = 0\n",
    "# Remove bad date from Yahoo\n",
    "ind1 = np.where(~np.isnan(sigmaImplied)) # remove NA's\n",
    "ind2 = np.where(~np.isinf(sigmaImplied[np.asarray(ind1)[0,:]])) # Remove infinity volatilities\n",
    "ind = np.where(np.round(sigmaImplied[np.asarray(ind2)[0,:]], 1) !=0.) # Remove very small volatilities\n",
    "sigmaImplied = pd.Series(sigmaImplied)"
   ]
  },
  {
   "cell_type": "code",
   "execution_count": null,
   "id": "aeae2f9c",
   "metadata": {},
   "outputs": [],
   "source": [
    "callData = pd.concat([strike.iloc[ind], CallPrice.iloc[ind], sigmaImplied.iloc[ind]], axis=1)"
   ]
  },
  {
   "cell_type": "code",
   "execution_count": null,
   "id": "4b12fdc8",
   "metadata": {},
   "outputs": [],
   "source": [
    "# Plot reseults\n",
    "plt.figure(figsize=(10,7.5))\n",
    "plt.plot(callData.iloc[1:,0], callData.iloc[1:,2], label='BS IV')\n",
    "plt.xlabel('Strike Price', fontsize=14)\n",
    "plt.ylabel(' Implied Volatility %', fontsize=14)"
   ]
  },
  {
   "cell_type": "code",
   "execution_count": null,
   "id": "6fed1554",
   "metadata": {},
   "outputs": [],
   "source": []
  },
  {
   "cell_type": "code",
   "execution_count": null,
   "id": "ca3e72b7",
   "metadata": {},
   "outputs": [],
   "source": []
  }
 ],
 "metadata": {
  "kernelspec": {
   "display_name": "Python 3",
   "language": "python",
   "name": "python3"
  },
  "language_info": {
   "codemirror_mode": {
    "name": "ipython",
    "version": 3
   },
   "file_extension": ".py",
   "mimetype": "text/x-python",
   "name": "python",
   "nbconvert_exporter": "python",
   "pygments_lexer": "ipython3",
   "version": "3.7.11"
  }
 },
 "nbformat": 4,
 "nbformat_minor": 5
}
