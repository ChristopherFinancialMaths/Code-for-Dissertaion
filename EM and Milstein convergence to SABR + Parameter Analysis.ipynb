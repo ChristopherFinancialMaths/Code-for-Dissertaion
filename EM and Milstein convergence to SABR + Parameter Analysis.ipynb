{
 "cells": [
  {
   "cell_type": "code",
   "execution_count": null,
   "id": "44c388e3",
   "metadata": {},
   "outputs": [],
   "source": [
    "# Libraries used in calculations\n",
    "import numpy as np\n",
    "import pandas as pd\n",
    "import matplotlib.pyplot as plt\n",
    "import math as m\n",
    "from scipy.stats import linregress # used to get the linear parameters from the results\n",
    "import copy"
   ]
  },
  {
   "cell_type": "code",
   "execution_count": null,
   "id": "7496e0a1",
   "metadata": {},
   "outputs": [],
   "source": [
    "# Parameters\n",
    "T = 1 # Time\n",
    "sig = 0.5 # sigma(0)\n",
    "alpha = 0.01 # # alpha in SABR\n",
    "F_0 = 1 # initial forward price, F(0)\n",
    "rho = 0.25 # correlation between Brownian motions"
   ]
  },
  {
   "cell_type": "code",
   "execution_count": null,
   "id": "ba90a691",
   "metadata": {},
   "outputs": [],
   "source": [
    "# SABR function calculates pahs for the F(t), EM discretisation and Milstein discretisation\n",
    "def SABR(T, N, sig_0, M, alpha, F_0, rho):\n",
    "    # There will be M Monte Carlo simulations\n",
    "    dt = T/N # step size\n",
    "    F_T = np.ones(M)*F_0 # Array for F(T) values\n",
    "    EM = np.ones(M)*F_0 # Array for EM values\n",
    "    Mil = np.ones(M)*F_0 # Array for Milstein values\n",
    "    sig_t = np.ones(M)*sig_0 # Array for sigma(t)\n",
    "    A = np.array([alpha*rho, alpha*np.sqrt(1 - rho**2)]) # cholesky factor\n",
    "    # iterate through N steps, calculating for M paths \n",
    "    for i in range(N):\n",
    "        Z = np.sqrt(dt) * np.random.normal(0, 1, (2, M)) # Browian increment for B1 and B2\n",
    "        B2 = A[0]*Z[0,:] + A[1]*Z[1,:]  # Brownian motion for B1 in the SABR model\n",
    "        B1 = Z[0,:] # Brownian motion for B1 in the SABR model\n",
    "        sig_t = sig_t*np.exp((-alpha**2 / 2)*dt + B2) # sigma(t)\n",
    "        \n",
    "        F_T = F_T*np.exp((-sig_t**2 / 2)*dt + sig_t*B1) # exact solution\n",
    "        EM = EM + EM * sig_t * B1 # EM approximation\n",
    "        Mil = Mil + Mil * sig_t * B1 + 0.5 * (sig_t**2) * Mil * (B1**2 - dt) # Milstein approximation\n",
    "    return F_T, Mil, EM # return values when n=N"
   ]
  },
  {
   "cell_type": "markdown",
   "id": "e97c541a",
   "metadata": {},
   "source": [
    "# Strong Error"
   ]
  },
  {
   "cell_type": "code",
   "execution_count": null,
   "id": "956a0320",
   "metadata": {},
   "outputs": [],
   "source": [
    "strongError = pd.DataFrame(columns=['EM', 'Mil', 'N']) # Dataframe to hold strong error\n",
    "Nsteps = np.array([2**6, 2**8, 2**9, 2**10, 2**12]) # Numbers of steps evaluated\n",
    "err = np.zeros([1, 2]) # placeholder for error\n",
    "for i in range(len(Nsteps)):\n",
    "        F_T, Mil, EM = SABR(T=T, N=Nsteps[i], M=10**4, sig_0=sig, alpha=alpha, F_0=F_0, rho=rho) # calculate paths using SABR function\n",
    "        err_EM = np.mean(np.abs(EM - F_T)) # Strong error for EM at Ni\n",
    "        err_Mil = np.mean(np.abs(Mil - F_T)) # Strong error for Milstein at Ni\n",
    "        # Add strong error to Dataframe\n",
    "        strongError = strongError.append({\n",
    "            'EM':err_EM,\n",
    "            'Mil':err_Mil,\n",
    "            'N':int(Nsteps[i])\n",
    "        }, ignore_index=True)\n",
    "strongError.index = strongError.N\n",
    "del strongError['N']"
   ]
  },
  {
   "cell_type": "code",
   "execution_count": null,
   "id": "514f9f12",
   "metadata": {},
   "outputs": [],
   "source": [
    "# Plot Strong error and see if there is strong convergence\n",
    "Dt = T / Nsteps\n",
    "plt.figure(figsize=(10, 10))\n",
    "plt.loglog(Dt, strongError.iloc[:,0],'o', markersize = 10, linestyle = '-', label='EM') # EM strong error\n",
    "plt.loglog(Dt, strongError.iloc[:,1],'x', markersize = 10, linestyle = '-', label='Milstein') # Milstein strong error\n",
    "plt.loglog(Dt,Dt, '--', label='ref') # reference line, with slope=1\n",
    "plt.xlabel('h', fontsize=18)\n",
    "plt.ylabel('Sample average of |F(t) - Fn|', fontsize=18)\n",
    "plt.rc('xtick',labelsize=16)\n",
    "plt.rc('ytick',labelsize=16)\n",
    "plt.legend()\n",
    "# plt.savefig('Strong error convergence for SABR.jpg')"
   ]
  },
  {
   "cell_type": "code",
   "execution_count": null,
   "id": "c954b21b",
   "metadata": {},
   "outputs": [],
   "source": [
    "# calculate order of convergence, gamma, and C\n",
    "# use linregress from scipy\n",
    "EM_gamma, EM_C = linregress(np.log(Dt), np.log(strongError.iloc[:,0]))[0:2]\n",
    "Mil_gamma, Mil_C = linregress(np.log(Dt), np.log(strongError.iloc[:,1]))[0:2]\n",
    "C_EM = m.exp(EM_C)\n",
    "C_Mil = m.exp(Mil_C)\n",
    "print('For the Euler-Maruyama method, gamma = {} and C = {}'.format(EM_gamma, C_EM))\n",
    "print('For the Milstein method, gamma = {} and C = {}'.format(Mil_gamma, C_Mil))"
   ]
  },
  {
   "cell_type": "markdown",
   "id": "bd089fd5",
   "metadata": {},
   "source": [
    "# Parameter Analysis"
   ]
  },
  {
   "cell_type": "markdown",
   "id": "01cf0231",
   "metadata": {},
   "source": [
    "## $\\alpha$ analysis"
   ]
  },
  {
   "cell_type": "code",
   "execution_count": null,
   "id": "47cebd9a",
   "metadata": {},
   "outputs": [],
   "source": [
    "# Parameters, same meaning as above\n",
    "T = 1\n",
    "sig = 0.5\n",
    "F_0 = 1\n",
    "rho = 0.25"
   ]
  },
  {
   "cell_type": "code",
   "execution_count": null,
   "id": "80b48742",
   "metadata": {},
   "outputs": [],
   "source": [
    "alpha_array = np.array([0.01, 0.1, 0.2, 0.3, 0.4, 0.5, 0.6, 0.7, 0.8, 0.9, 1]) # alpha values to evaluate\n",
    "Nsteps = np.array([2**6, 2**8, 2**9, 2**10, 2**12])\n",
    "err = np.zeros((len(Nsteps), len(alpha_array)))\n",
    "for j in range(len(alpha_array)):\n",
    "    for i in range(len(Nsteps)):\n",
    "            F_T, Mil = SABR(T=T, N=Nsteps[i], M=10**3, sig_0=sig, alpha=alpha_array[j], F_0=F_0, rho=rho)\n",
    "            err[i, j] = np.mean(np.abs(Mil - F_T))"
   ]
  },
  {
   "cell_type": "code",
   "execution_count": null,
   "id": "b3d21603",
   "metadata": {},
   "outputs": [],
   "source": [
    "Dt = T / Nsteps\n",
    "gamma_C = np.zeros((len(alpha_array), 2))\n",
    "for i in range(len(alpha_array)):\n",
    "    Mil_gamma, Mil_C = linregress(np.log(Dt), np.log(err[:,i]))[0:2]\n",
    "    C_Mil = m.exp(Mil_C)\n",
    "    gamma_C[i,0] = Mil_gamma\n",
    "    gamma_C[i,1] = C_Mil\n",
    "    print('For the Milstein method, gamma = {} and C = {}'.format(Mil_gamma, C_Mil))"
   ]
  },
  {
   "cell_type": "code",
   "execution_count": null,
   "id": "6fef4f67",
   "metadata": {},
   "outputs": [],
   "source": [
    "plt.figure(figsize=(12.5,7.5))\n",
    "plt.scatter(alpha_array[:-1], gamma_C[:-1,0], s=gamma_C[:-1,1]*10000)\n",
    "plt.xlabel(r'$\\alpha$', fontsize=22)\n",
    "plt.ylabel('Order of Convergence', fontsize=18)\n",
    "plt.grid()\n",
    "# plt.savefig('C:\\\\Users\\\\chris\\\\Documents\\\\Financial and computational maths\\\\MF6016 Dissertation\\\\final report\\\\figures\\\\SABR_alpha_convergenceAffect.jpg')\n"
   ]
  },
  {
   "cell_type": "markdown",
   "id": "cc277176",
   "metadata": {},
   "source": [
    "## $\\rho$ analysis"
   ]
  },
  {
   "cell_type": "code",
   "execution_count": null,
   "id": "0f8289f0",
   "metadata": {},
   "outputs": [],
   "source": [
    "# parameters\n",
    "T = 1\n",
    "sig = 0.5\n",
    "alpha = 0.01\n",
    "F_0 = 1"
   ]
  },
  {
   "cell_type": "code",
   "execution_count": null,
   "id": "6235cb7e",
   "metadata": {},
   "outputs": [],
   "source": [
    "rho_array = np.array([-1, -0.75, -0.5, -0.25, 0, 0.25, 0.5, 0.75, 1]) # rho values to evaluate\n",
    "Nsteps = np.array([2**6, 2**8, 2**9, 2**10, 2**12])\n",
    "err_rho = np.zeros((len(Nsteps), len(rho_array)))\n",
    "for j in range(len(rho_array)):\n",
    "    for i in range(len(Nsteps)):\n",
    "            F_T, Mil = SABR(T=T, N=Nsteps[i], M=10**3, sig_0=sig, alpha=alpha, F_0=F_0, rho=rho_array[j])\n",
    "            err_rho[i, j] = np.mean(np.abs(Mil - F_T))"
   ]
  },
  {
   "cell_type": "code",
   "execution_count": null,
   "id": "57bd3e7b",
   "metadata": {},
   "outputs": [],
   "source": [
    "Dt = T / Nsteps\n",
    "rho_gamma_C = np.zeros((len(rho_array), 2))\n",
    "for i in range(len(rho_array)):\n",
    "    Mil_gamma, Mil_C = linregress(np.log(Dt), np.log(err_rho[:,i]))[0:2]\n",
    "    C_Mil = m.exp(Mil_C)\n",
    "    rho_gamma_C[i,0] = Mil_gamma\n",
    "    rho_gamma_C[i,1] = C_Mil\n",
    "    print('For the Milstein method, gamma = {} and C = {}'.format(Mil_gamma, C_Mil))"
   ]
  },
  {
   "cell_type": "code",
   "execution_count": null,
   "id": "4201df59",
   "metadata": {},
   "outputs": [],
   "source": [
    "plt.figure(figsize=(12.5,7.5))\n",
    "plt.scatter(rho_array, rho_gamma_C[:,0], s=rho_gamma_C[:,1]*50000)\n",
    "plt.xlabel(r'$\\rho$', fontsize=18)\n",
    "plt.ylabel('Order of Convergence', fontsize=18)\n",
    "plt.grid()\n",
    "# plt.savefig('C:\\\\Users\\\\chris\\\\Documents\\\\Financial and computational maths\\\\MF6016 Dissertation\\\\final report\\\\figures\\\\SABR_rho_convergenceAffect.jpg')\n"
   ]
  },
  {
   "cell_type": "markdown",
   "id": "c99e4c2c",
   "metadata": {},
   "source": [
    "## $\\sigma (0)$ analysis"
   ]
  },
  {
   "cell_type": "code",
   "execution_count": null,
   "id": "a29d664b",
   "metadata": {},
   "outputs": [],
   "source": [
    "# parameters\n",
    "T = 1\n",
    "# sig = 0.5\n",
    "alpha = 0.01\n",
    "F_0 = 1\n",
    "rho = 0.25"
   ]
  },
  {
   "cell_type": "code",
   "execution_count": null,
   "id": "0341a7ae",
   "metadata": {},
   "outputs": [],
   "source": [
    "sig_array = np.array([0.01, 0.1, 0.2, 0.3, 0.4, 0.5, 0.6, 0.7, 0.8, 0.9, 1]) # sigma(0) values to evaluate\n",
    "Nsteps = np.array([2**6, 2**8, 2**9, 2**10, 2**12])\n",
    "err_sig = np.zeros((len(Nsteps), len(sig_array)))\n",
    "for j in range(len(sig_array)):\n",
    "    for i in range(len(Nsteps)):\n",
    "            F_T, Mil = SABR(T=T, N=Nsteps[i], M=10**3, sig_0=sig_array[j], alpha=alpha, F_0=F_0, rho=rho)\n",
    "            err_sig[i, j] = np.mean(np.abs(Mil - F_T))"
   ]
  },
  {
   "cell_type": "code",
   "execution_count": null,
   "id": "76d96545",
   "metadata": {},
   "outputs": [],
   "source": [
    "Dt = T / Nsteps\n",
    "sig_gamma_C = np.zeros((len(sig_array), 2))\n",
    "for i in range(len(sig_array)):\n",
    "    Mil_gamma, Mil_C = linregress(np.log(Dt), np.log(err_sig[:,i]))[0:2]\n",
    "    C_Mil = m.exp(Mil_C)\n",
    "    sig_gamma_C[i,0] = Mil_gamma\n",
    "    sig_gamma_C[i,1] = C_Mil\n",
    "    print('For the Milstein method, gamma = {} and C = {}'.format(Mil_gamma, C_Mil))"
   ]
  },
  {
   "cell_type": "code",
   "execution_count": null,
   "id": "39fd2fbb",
   "metadata": {},
   "outputs": [],
   "source": [
    "plt.figure(figsize=(12.5,7.5))\n",
    "plt.scatter(sig_array, sig_gamma_C[:,0], s=sig_gamma_C[:,1]*50000, alpha=0.5)\n",
    "plt.xlabel(r'$\\sigma (0)$', fontsize=18)\n",
    "plt.ylabel('Order of Convergence', fontsize=18)\n",
    "plt.grid()\n",
    "# plt.savefig('C:\\\\Users\\\\chris\\\\Documents\\\\Financial and computational maths\\\\MF6016 Dissertation\\\\final report\\\\figures\\\\SABR_sigma0_convergenceAffect.jpg')\n"
   ]
  },
  {
   "cell_type": "markdown",
   "id": "eaf7934d",
   "metadata": {},
   "source": [
    "## F(0) analysis"
   ]
  },
  {
   "cell_type": "code",
   "execution_count": null,
   "id": "3a3a5b1e",
   "metadata": {},
   "outputs": [],
   "source": [
    "# parameters\n",
    "T = 1\n",
    "sig = 0.5\n",
    "alpha = 0.01\n",
    "rho = 0.25"
   ]
  },
  {
   "cell_type": "code",
   "execution_count": null,
   "id": "cdd0430a",
   "metadata": {},
   "outputs": [],
   "source": [
    "F0_array = np.array([1, 5, 10, 50, 100, 500, 1000]) # F(0) values to evaluate\n",
    "Nsteps = np.array([2**6, 2**8, 2**9, 2**10, 2**12])\n",
    "err_F0 = np.zeros((len(Nsteps), len(F0_array)))\n",
    "for j in range(len(F0_array)):\n",
    "    for i in range(len(Nsteps)):\n",
    "            F_T, Mil = SABR(T=T, N=Nsteps[i], M=10**3, sig_0=sig, alpha=alpha, F_0=F0_array[j], rho=rho)\n",
    "            err_F0[i, j] = np.mean(np.abs(Mil - F_T))"
   ]
  },
  {
   "cell_type": "code",
   "execution_count": null,
   "id": "8502faa2",
   "metadata": {},
   "outputs": [],
   "source": [
    "Dt = T / Nsteps\n",
    "F0_gamma_C = np.zeros((len(F0_array), 2))\n",
    "for i in range(len(F0_array)):\n",
    "    Mil_gamma, Mil_C = linregress(np.log(Dt), np.log(err_F0[:,i]))[0:2]\n",
    "    C_Mil = m.exp(Mil_C)\n",
    "    F0_gamma_C[i,0] = Mil_gamma\n",
    "    F0_gamma_C[i,1] = C_Mil\n",
    "    print('For the Milstein method, gamma = {} and C = {}'.format(Mil_gamma, C_Mil))"
   ]
  },
  {
   "cell_type": "code",
   "execution_count": null,
   "id": "ae6b1293",
   "metadata": {},
   "outputs": [],
   "source": [
    "plt.figure(figsize=(12.5,7.5))\n",
    "plt.scatter(F0_array, F0_gamma_C[:,0], s=F0_gamma_C[:,1]*1000, alpha=0.5)\n",
    "plt.xlabel('F(0)', fontsize=18)\n",
    "plt.ylabel('Order of Convergence', fontsize=18)\n",
    "plt.gca().set_xscale('log')\n",
    "plt.grid()\n",
    "# plt.savefig('C:\\\\Users\\\\chris\\\\Documents\\\\Financial and computational maths\\\\MF6016 Dissertation\\\\final report\\\\figures\\\\SABR_F0_convergenceAffect.jpg')\n"
   ]
  },
  {
   "cell_type": "code",
   "execution_count": null,
   "id": "f41d0718",
   "metadata": {},
   "outputs": [],
   "source": []
  }
 ],
 "metadata": {
  "kernelspec": {
   "display_name": "Python 3",
   "language": "python",
   "name": "python3"
  },
  "language_info": {
   "codemirror_mode": {
    "name": "ipython",
    "version": 3
   },
   "file_extension": ".py",
   "mimetype": "text/x-python",
   "name": "python",
   "nbconvert_exporter": "python",
   "pygments_lexer": "ipython3",
   "version": "3.7.11"
  }
 },
 "nbformat": 4,
 "nbformat_minor": 5
}
